{
 "cells": [
  {
   "cell_type": "code",
   "execution_count": 2,
   "metadata": {
    "collapsed": true
   },
   "outputs": [],
   "source": [
    "import csv\n",
    "import json\n",
    "from sklearn.preprocessing import LabelEncoder"
   ]
  },
  {
   "cell_type": "code",
   "execution_count": 3,
   "metadata": {
    "collapsed": false
   },
   "outputs": [],
   "source": [
    "f = open('Updated_Interdisciplinary_Course_Data.csv','r')\n",
    "\n",
    "reader = csv.DictReader(f)\n",
    "courses = []\n",
    "course_cluster = []\n",
    "for row in reader:\n",
    "    courses.append(row)\n",
    "    course_cluster.append(row['Course Cluster'])\n",
    "\n",
    "f.close()\n",
    "\n",
    "le = LabelEncoder()\n",
    "le.fit(course_cluster)\n",
    "\n",
    "clusterDict = dict()\n",
    "clusterDepts = dict()\n",
    "clusters = dict()\n",
    "for i in range(le.classes_.size):\n",
    "    clusterDict[i] = []\n",
    "    clusterDepts[i] = []\n",
    "    clusters[i] = []\n",
    "for course in courses:\n",
    "    i = le.transform(course['Course Cluster'])\n",
    "    clusterDict[i].append(course)\n",
    "    clusterDepts[i].append(course['Course Dept'])\n",
    "    \n",
    "for i in range(le.classes_.size):\n",
    "    nle = LabelEncoder()\n",
    "    nle.fit(clusterDepts[i])\n",
    "    for course in clusterDict[i]:\n",
    "        course['Group'] = nle.transform(course['Course Dept']) + 1\n",
    "\n",
    "for i in range(len(clusters)):\n",
    "    for course in clusterDict[i]:\n",
    "        dept = course['Course Dept']\n",
    "        clusters[i].append({'name': dept[dept.find(\"(\")+1:dept.find(\")\")] + ' ' + str(course['Course #']), 'group': course['Group']})\n",
    "\n",
    "j = open('children.json', 'w')\n",
    "for i,cluster in clusters.items():\n",
    "    j.write('%s cluster:' % (le.inverse_transform(i),))\n",
    "    j.write('\\n')\n",
    "    json.dump(cluster, j)\n",
    "    j.write('\\n')\n",
    "    j.write('\\n')\n",
    "j.close()"
   ]
  },
  {
   "cell_type": "code",
   "execution_count": null,
   "metadata": {
    "collapsed": true
   },
   "outputs": [],
   "source": []
  }
 ],
 "metadata": {
  "kernelspec": {
   "display_name": "Python 2",
   "language": "python",
   "name": "python2"
  },
  "language_info": {
   "codemirror_mode": {
    "name": "ipython",
    "version": 2
   },
   "file_extension": ".py",
   "mimetype": "text/x-python",
   "name": "python",
   "nbconvert_exporter": "python",
   "pygments_lexer": "ipython2",
   "version": "2.7.10"
  }
 },
 "nbformat": 4,
 "nbformat_minor": 0
}
