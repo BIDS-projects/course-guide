{
 "cells": [
  {
   "cell_type": "code",
   "execution_count": 44,
   "metadata": {
    "collapsed": false
   },
   "outputs": [],
   "source": [
    "import requests\n",
    "from bs4 import BeautifulSoup\n",
    "\n",
    "import csv"
   ]
  },
  {
   "cell_type": "code",
   "execution_count": 85,
   "metadata": {
    "collapsed": true
   },
   "outputs": [],
   "source": [
    "page = requests.get('http://dlab.berkeley.edu/course-list')\n",
    "soup = BeautifulSoup(page1.content, 'html.parser')"
   ]
  },
  {
   "cell_type": "code",
   "execution_count": 116,
   "metadata": {
    "collapsed": false
   },
   "outputs": [],
   "source": [
    "course_titles = soup.select('tr > .views-field-title > a')\n",
    "for i in range(len(course_titles)):\n",
    "    course_titles[i] = unicode(course_titles[i].string)"
   ]
  },
  {
   "cell_type": "code",
   "execution_count": 117,
   "metadata": {
    "collapsed": false
   },
   "outputs": [],
   "source": [
    "course_codes = soup.select('tr > .views-field-field-course-code-text')[1:]\n",
    "for i in range(len(course_codes)):\n",
    "    course_codes[i] = course_codes[i].contents[0].strip() + ' ' + unicode(course_codes[i].contents[1].contents[0])"
   ]
  },
  {
   "cell_type": "code",
   "execution_count": 118,
   "metadata": {
    "collapsed": false
   },
   "outputs": [],
   "source": [
    "course_descriptions = soup.select('tr > .views-field-field-description')[1:]\n",
    "for i in range(len(course_descriptions)):\n",
    "    course_descriptions[i] = course_descriptions[i].contents[0].strip()"
   ]
  },
  {
   "cell_type": "code",
   "execution_count": null,
   "metadata": {
    "collapsed": true
   },
   "outputs": [],
   "source": []
  },
  {
   "cell_type": "code",
   "execution_count": null,
   "metadata": {
    "collapsed": true
   },
   "outputs": [],
   "source": [
    "f = open('', 'wt')\n",
    "writer = csv.writer(f)\n",
    "writer.writerow(('Id','Category'))\n",
    "for i in range(predict_test.shape[0]):\n",
    "    writer.writerow((i+1,predict_test[i]))\n",
    "f.close()"
   ]
  }
 ],
 "metadata": {
  "kernelspec": {
   "display_name": "Python 2",
   "language": "python",
   "name": "python2"
  },
  "language_info": {
   "codemirror_mode": {
    "name": "ipython",
    "version": 2
   },
   "file_extension": ".py",
   "mimetype": "text/x-python",
   "name": "python",
   "nbconvert_exporter": "python",
   "pygments_lexer": "ipython2",
   "version": "2.7.10"
  }
 },
 "nbformat": 4,
 "nbformat_minor": 0
}
