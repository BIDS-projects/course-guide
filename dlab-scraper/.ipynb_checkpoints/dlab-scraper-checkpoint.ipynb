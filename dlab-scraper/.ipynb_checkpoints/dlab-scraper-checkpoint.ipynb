{
 "cells": [
  {
   "cell_type": "code",
   "execution_count": 13,
   "metadata": {
    "collapsed": false
   },
   "outputs": [],
   "source": [
    "from lxml import html\n",
    "import requests\n",
    "from bs4 import BeautifulSoup"
   ]
  },
  {
   "cell_type": "code",
   "execution_count": 3,
   "metadata": {
    "collapsed": true
   },
   "outputs": [],
   "source": [
    "page = requests.get('http://dlab.berkeley.edu/course-list')\n",
    "tree = html.fromstring(page.content)"
   ]
  },
  {
   "cell_type": "code",
   "execution_count": 12,
   "metadata": {
    "collapsed": false
   },
   "outputs": [
    {
     "data": {
      "text/plain": [
       "['http://www.w3.org/1999/xhtml',\n",
       " 'en',\n",
       " 'XHTML+RDFa 1.0',\n",
       " 'ltr',\n",
       " 'http://purl.org/rss/1.0/modules/content/',\n",
       " 'http://purl.org/dc/terms/',\n",
       " 'http://xmlns.com/foaf/0.1/',\n",
       " 'http://ogp.me/ns#',\n",
       " 'http://www.w3.org/2000/01/rdf-schema#',\n",
       " 'http://rdfs.org/sioc/ns#',\n",
       " 'http://rdfs.org/sioc/types#',\n",
       " 'http://www.w3.org/2004/02/skos/core#',\n",
       " 'http://www.w3.org/2001/XMLSchema#']"
      ]
     },
     "execution_count": 12,
     "metadata": {},
     "output_type": "execute_result"
    }
   ],
   "source": [
    "tree.values()"
   ]
  },
  {
   "cell_type": "code",
   "execution_count": 9,
   "metadata": {
    "collapsed": false
   },
   "outputs": [
    {
     "data": {
      "text/plain": [
       "[]"
      ]
     },
     "execution_count": 9,
     "metadata": {},
     "output_type": "execute_result"
    }
   ],
   "source": [
    "course_code = tree.xpath('//td[@class=\"views-field-title\"]/text()')\n",
    "course_code"
   ]
  },
  {
   "cell_type": "code",
   "execution_count": 14,
   "metadata": {
    "collapsed": true
   },
   "outputs": [],
   "source": [
    "soup = BeautifulSoup(page.content, 'html.parser')"
   ]
  },
  {
   "cell_type": "code",
   "execution_count": 15,
   "metadata": {
    "collapsed": false
   },
   "outputs": [
    {
     "data": {
      "text/plain": [
       "<title>Course List | D-Lab</title>"
      ]
     },
     "execution_count": 15,
     "metadata": {},
     "output_type": "execute_result"
    }
   ],
   "source": [
    "soup.title"
   ]
  },
  {
   "cell_type": "code",
   "execution_count": 21,
   "metadata": {
    "collapsed": false
   },
   "outputs": [
    {
     "name": "stdout",
     "output_type": "stream",
     "text": [
      "[<a href=\"http://osoc.berkeley.edu/OSOC/osoc?p_ccn=01659&amp;p_term=SP\" target=\"_blank\">Econometrics: Multiple Equation Estimation</a>, <a href=\"http://osoc.berkeley.edu/OSOC/osoc?p_ccn=01668&amp;p_term=SP\" target=\"_blank\">Quantitative Policy Analysis</a>, <a href=\"http://osoc.berkeley.edu/OSOC/osoc?p_ccn=01677&amp;p_term=SP\" target=\"_blank\">Non-market Valuation</a>, <a href=\"http://osoc.berkeley.edu/OSOC/osoc?p_ccn=01680&amp;p_term=SP\" target=\"_blank\">Empirical Energy and Environmental Economics</a>, <a href=\"http://osoc.berkeley.edu/OSOC/osoc?p_ccn=02722&amp;p_term=SP\" target=\"_blank\">Paleoethnobotany: Archaeological Methods and Laboratory Techniques</a>, <a href=\"http://osoc.berkeley.edu/OSOC/osoc?p_ccn=02726&amp;p_term=SP\" target=\"_blank\">Field Production of Ethnographic Film</a>, <a href=\"http://osoc.berkeley.edu/OSOC/osoc?p_ccn=02747&amp;p_term=SP\" target=\"_blank\">California Historical Anthropology</a>, <a href=\"http://osoc.berkeley.edu/OSOC/osoc?p_ccn=03074&amp;p_term=SP\" target=\"_blank\">Fundamentals of Anthropological Theory</a>, <a href=\"http://osoc.berkeley.edu/OSOC/osoc?p_ccn=03095&amp;p_term=SP\" target=\"_blank\">Special Topics: \"Classic Ethnography\"</a>, <a href=\"http://osoc.berkeley.edu/OSOC/osoc?p_ccn=03116&amp;p_term=SP\" target=\"_blank\">Science and Technology Studies Research Seminar</a>, <a href=\"http://osoc.berkeley.edu/OSOC/osoc?p_ccn=03715&amp;p_term=SP\" target=\"_blank\">Special Topics in Digital Design Theories and Methods: \"The Data Made Me Do It\"</a>, <a href=\"http://osoc.berkeley.edu/OSOC/osoc?p_ccn=03738&amp;p_term=SP\" target=\"_blank\">Design and Computer Analysis of Structure</a>, <a href=\"http://osoc.berkeley.edu/OSOC/osoc?p_ccn=03942&amp;p_term=SP\" target=\"_blank\">Special Topics in Digital Design Theories and Methods: \"The Data Made Me Do It\"</a>, <a href=\"http://osoc.berkeley.edu/OSOC/osoc?p_ccn=03945&amp;p_term=SP\" target=\"_blank\">Special Topics in Digital Design Theories and Methods: \"Computational Geometry\"</a>, <a href=\"http://osoc.berkeley.edu/OSOC/osoc?p_ccn=03948&amp;p_term=SP\" target=\"_blank\">Special Topics in Digital Design Theories and Methods</a>, <a href=\"http://osoc.berkeley.edu/OSOC/osoc?p_ccn=03978&amp;p_term=SP\" target=\"_blank\">Methods in Historical Research and Criticism in Architecture</a>, <a href=\"http://osoc.berkeley.edu/OSOC/osoc?p_ccn=04430&amp;p_term=SP\" target=\"_blank\">Game Design Methods</a>, <a href=\"http://osoc.berkeley.edu/OSOC/osoc?p_ccn=06080&amp;p_term=SP\" target=\"_blank\">Special Topics in Astrophysics</a>, <a href=\"http://osoc.berkeley.edu/OSOC/osoc?p_ccn=06617&amp;p_term=SP\" target=\"_blank\">Introduction to Protein Informatics</a>, <a href=\"http://osoc.berkeley.edu/OSOC/osoc?p_ccn=07061&amp;p_term=SP\" target=\"_blank\">Biomimetic Engineering -- Engineering from Biology</a>, <a href=\"http://osoc.berkeley.edu/OSOC/osoc?p_ccn=07073&amp;p_term=SP\" target=\"_blank\">BioMEMS and BioNanotechnology Laboratory</a>, <a href=\"http://osoc.berkeley.edu/OSOC/osoc?p_ccn=07079&amp;p_term=SP\" target=\"_blank\">Probabilistic Modeling in Computational Biology</a>, <a href=\"http://osoc.berkeley.edu/OSOC/osoc?p_ccn=07085&amp;p_term=SP\" target=\"_blank\">Introduction to Protein Informatics</a>, <a href=\"http://osoc.berkeley.edu/OSOC/osoc?p_ccn=07109&amp;p_term=SP\" target=\"_blank\">Principles of Magnetic Resonance Imaging</a>, <a href=\"http://osoc.berkeley.edu/OSOC/osoc?p_ccn=07112&amp;p_term=SP\" target=\"_blank\">Occupational Biomechanics</a>, <a href=\"http://osoc.berkeley.edu/OSOC/osoc?p_ccn=12446&amp;p_term=SP\" target=\"_blank\">Statistical Mechanics</a>, <a href=\"http://osoc.berkeley.edu/OSOC/osoc?p_ccn=13085&amp;p_term=SP\" target=\"_blank\">Special Topics: \"Group Theory and its Applications: Point Groups, Lie Groups and Spinor Groups or Clifford Algebras\"</a>, <a href=\"http://osoc.berkeley.edu/OSOC/osoc?p_ccn=13456&amp;p_term=SP\" target=\"_blank\">Central American Peoples and Cultures</a>, <a href=\"http://osoc.berkeley.edu/OSOC/osoc?p_ccn=14231&amp;p_term=SP\" target=\"_blank\">Numerical Methods for Environmental Flow Modeling</a>, <a href=\"http://osoc.berkeley.edu/OSOC/osoc?p_ccn=14240&amp;p_term=SP\" target=\"_blank\">Control of Water-Related Pathogens</a>, <a href=\"http://osoc.berkeley.edu/OSOC/osoc?p_ccn=14258&amp;p_term=SP\" target=\"_blank\">Finite Element Methods</a>, <a href=\"http://osoc.berkeley.edu/OSOC/osoc?p_ccn=14261&amp;p_term=SP\" target=\"_blank\">Stochastic Structural Dynamics</a>, <a href=\"http://osoc.berkeley.edu/OSOC/osoc?p_ccn=14285&amp;p_term=SP\" target=\"_blank\">Transportation Sustainability</a>, <a href=\"http://osoc.berkeley.edu/OSOC/osoc?p_ccn=14309&amp;p_term=SP\" target=\"_blank\">Sensors and Signal Interpretation</a>, <a href=\"http://osoc.berkeley.edu/OSOC/osoc?p_ccn=14330&amp;p_term=SP\" target=\"_blank\">Advanced Topics in Seismology</a>, <a href=\"http://osoc.berkeley.edu/OSOC/osoc?p_ccn=14333&amp;p_term=SP\" target=\"_blank\">Advanced Topics in Geotechnical Engineering</a>, <a href=\"http://osoc.berkeley.edu/OSOC/osoc?p_ccn=26546&amp;p_term=SP\" target=\"_blank\">User Interface Design and Development</a>, <a href=\"http://osoc.berkeley.edu/OSOC/osoc?p_ccn=26627&amp;p_term=SP\" target=\"_blank\">Programming Languages and Compilers</a>, <a href=\"http://osoc.berkeley.edu/OSOC/osoc?p_ccn=26639&amp;p_term=SP\" target=\"_blank\">Software Engineering</a>, <a href=\"http://osoc.berkeley.edu/OSOC/osoc?p_ccn=26651&amp;p_term=SP\" target=\"_blank\">Efficient Algorithms and Intractable Problems</a>, <a href=\"http://osoc.berkeley.edu/OSOC/osoc?p_ccn=26693&amp;p_term=SP\" target=\"_blank\">Foundations of Computer Graphics</a>, <a href=\"http://osoc.berkeley.edu/OSOC/osoc?p_ccn=26708&amp;p_term=SP\" target=\"_blank\">Introduction to Database Systems</a>, <a href=\"http://osoc.berkeley.edu/OSOC/osoc?p_ccn=26750&amp;p_term=SP\" target=\"_blank\">Introduction to Machine Learning</a>, <a href=\"http://osoc.berkeley.edu/OSOC/osoc?p_ccn=26774&amp;p_term=SP\" target=\"_blank\">Special Topics: \"Introduction to Data Science\"</a>, <a href=\"http://osoc.berkeley.edu/OSOC/osoc?p_ccn=26999&amp;p_term=SP\" target=\"_blank\">Concurrent Models of Computation</a>, <a href=\"http://osoc.berkeley.edu/OSOC/osoc?p_ccn=27002&amp;p_term=SP\" target=\"_blank\">Graduate Computer Architecture</a>, <a href=\"http://osoc.berkeley.edu/OSOC/osoc?p_ccn=27005&amp;p_term=SP\" target=\"_blank\">User Interface Design and Development</a>, <a href=\"http://osoc.berkeley.edu/OSOC/osoc?p_ccn=27023&amp;p_term=SP\" target=\"_blank\">Statistical Learning Theory</a>, <a href=\"http://osoc.berkeley.edu/OSOC/osoc?p_ccn=27026&amp;p_term=SP\" target=\"_blank\">Advanced Topics in Learning and Decision Making</a>, <a href=\"http://osoc.berkeley.edu/OSOC/osoc?p_ccn=27034&amp;p_term=SP\" target=\"_blank\">Special Topics: \"Introduction to Data Science\"</a>]\n"
     ]
    }
   ],
   "source": [
    "print soup.select('.views-field-title > a')"
   ]
  },
  {
   "cell_type": "code",
   "execution_count": null,
   "metadata": {
    "collapsed": true
   },
   "outputs": [],
   "source": []
  }
 ],
 "metadata": {
  "kernelspec": {
   "display_name": "Python 2",
   "language": "python",
   "name": "python2"
  },
  "language_info": {
   "codemirror_mode": {
    "name": "ipython",
    "version": 2
   },
   "file_extension": ".py",
   "mimetype": "text/x-python",
   "name": "python",
   "nbconvert_exporter": "python",
   "pygments_lexer": "ipython2",
   "version": "2.7.10"
  }
 },
 "nbformat": 4,
 "nbformat_minor": 0
}
